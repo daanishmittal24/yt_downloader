{
 "cells": [
  {
   "cell_type": "code",
   "execution_count": null,
   "metadata": {},
   "outputs": [],
   "source": [
    "pip install yt-dlp moviepy pocketsphinx\n"
   ]
  },
  {
   "cell_type": "code",
   "execution_count": null,
   "metadata": {},
   "outputs": [],
   "source": [
    "import yt_dlp\n",
    "import os\n",
    "\n",
    "search_query = \"cat funny videos\"\n",
    "\n",
    "output_folder = \"hehehe\"\n",
    "os.makedirs(output_folder, exist_ok=True)\n",
    "\n",
    "ydl_opts = {\n",
    "    'format': 'best[ext=mp4]/best[ext=webm]/best',  \n",
    "    'noplaylist': True,\n",
    "    'max_downloads': 10,\n",
    "    'quiet': True,\n",
    "    'outtmpl': os.path.join(output_folder, '%(title)s.%(ext)s'),  \n",
    "}\n",
    "\n",
    "with yt_dlp.YoutubeDL(ydl_opts) as ydl:\n",
    "    ydl.download(f\"ytsearch10:{search_query}\")\n",
    "\n",
    "print(f\"Downloaded the first 10 videos into the folder: {output_folder}\")\n"
   ]
  },
  {
   "cell_type": "code",
   "execution_count": null,
   "metadata": {},
   "outputs": [],
   "source": [
    "import moviepy.editor as mp\n",
    "import os\n",
    "\n",
    "# Define the folder containing video files\n",
    "video_folder = \"/home/daanish/Downloads/ML-LAB/SheeryMannSongs\"\n",
    "audio_folder = \"/home/daanish/Downloads/ML-LAB/Songs\"\n",
    "\n",
    "# Ensure the audio folder exists\n",
    "os.makedirs(audio_folder, exist_ok=True)\n",
    "\n",
    "# List all files in the video folder\n",
    "video_files = [f for f in os.listdir(video_folder) if f.endswith(('.mp4', '.mkv', '.avi', '.mov'))]\n",
    "\n",
    "# Process each video file\n",
    "for video_file in video_files:\n",
    "    video_file_path = os.path.join(video_folder, video_file)\n",
    "    audio_file_path = os.path.join(audio_folder, f\"{os.path.splitext(video_file)[0]}.wav\")\n",
    "\n",
    "    # Load video file\n",
    "    video = mp.VideoFileClip(video_file_path)\n",
    "\n",
    "    # Extract and save audio\n",
    "    video.audio.write_audiofile(audio_file_path)\n",
    "\n",
    "    print(f\"Extracted audio from {video_file} to {audio_file_path}\")\n",
    "\n",
    "print(\"Audio extraction complete for all videos.\")\n"
   ]
  },
  {
   "cell_type": "code",
   "execution_count": null,
   "metadata": {},
   "outputs": [],
   "source": [
    "import moviepy.editor as mp\n",
    "import os\n",
    "\n",
    "# Define the folder containing video files\n",
    "video_folder = \"/home/daanish/Downloads/ML-LAB/SheeryMannSongs\"\n",
    "audio_folder = \"/home/daanish/Downloads/ML-LAB/Songs\"\n",
    "\n",
    "os.makedirs(audio_folder, exist_ok=True)\n",
    "\n",
    "# List all files in the video folder\n",
    "video_files = [f for f in os.listdir(video_folder) if f.endswith(('.mp4', '.mkv', '.avi', '.mov'))]\n",
    "\n",
    "# Process each video file\n",
    "for video_file in video_files:\n",
    "    video_file_path = os.path.join(video_folder, video_file)\n",
    "    audio_file_path = os.path.join(audio_folder, f\"{os.path.splitext(video_file)[0]}.wav\")\n",
    "\n",
    "    # Load video file\n",
    "    video = mp.VideoFileClip(video_file_path)\n",
    "    \n",
    "    # Skip the first 30 seconds of the video\n",
    "    start_time = 10\n",
    "    video = video.subclip(start_time, video.duration)\n",
    "    \n",
    "    # Extract and save audio\n",
    "    video.audio.write_audiofile(audio_file_path)\n",
    "\n",
    "    print(f\"Extracted audio from {video_file} to {audio_file_path} (skipping first 30 seconds)\")\n",
    "\n",
    "print(\"Audio extraction complete for all videos.\")"
   ]
  },
  {
   "cell_type": "code",
   "execution_count": null,
   "metadata": {},
   "outputs": [],
   "source": [
    "import moviepy.editor as mp\n",
    "import os\n",
    "\n",
    "# Define the folder containing audio files\n",
    "audio_folder = \"/home/daanish/Downloads/ML-LAB/Songs\"\n",
    "\n",
    "# List all audio files in the audio folder\n",
    "audio_files = [f for f in os.listdir(audio_folder) if f.endswith('.wav')]\n",
    "\n",
    "# Load all audio files\n",
    "audio_clips = [mp.AudioFileClip(os.path.join(audio_folder, audio_file)) for audio_file in audio_files]\n",
    "\n",
    "# Concatenate audio clips\n",
    "merged_audio = mp.concatenate_audioclips(audio_clips)\n",
    "\n",
    "# Define the output path for the merged audio\n",
    "merged_audio_path = os.path.join(audio_folder, \"merged_audio.wav\")\n",
    "\n",
    "# Write the merged audio to a file\n",
    "merged_audio.write_audiofile(merged_audio_path)\n",
    "\n",
    "print(f\"Merged audio saved to {merged_audio_path}\")\n"
   ]
  },
  {
   "cell_type": "code",
   "execution_count": null,
   "metadata": {},
   "outputs": [],
   "source": [
    "import zipfile\n",
    "import os\n",
    "\n",
    "# Define the path to the file you want to zip\n",
    "file_to_zip = \"/home/daanish/Downloads/ML-LAB/Songs/merged_audio.wav\"\n",
    "\n",
    "# Define the path for the zip file\n",
    "zip_file_path = \"/home/daanish/Downloads/ML-LAB/Songs/merged_audio.zip\"\n",
    "\n",
    "# Create a Zip file and add the file to it\n",
    "with zipfile.ZipFile(zip_file_path, 'w') as zipf:\n",
    "    # Add the file to the zip file\n",
    "    zipf.write(file_to_zip, os.path.basename(file_to_zip))\n",
    "\n",
    "print(f\"The file {file_to_zip} has been zipped into {zip_file_path}\")\n"
   ]
  }
 ],
 "metadata": {
  "kernelspec": {
   "display_name": "base",
   "language": "python",
   "name": "python3"
  },
  "language_info": {
   "codemirror_mode": {
    "name": "ipython",
    "version": 3
   },
   "file_extension": ".py",
   "mimetype": "text/x-python",
   "name": "python",
   "nbconvert_exporter": "python",
   "pygments_lexer": "ipython3",
   "version": "3.10.9"
  }
 },
 "nbformat": 4,
 "nbformat_minor": 4
}
